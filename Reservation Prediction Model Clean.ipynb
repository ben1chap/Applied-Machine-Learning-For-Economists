{
 "cells": [
  {
   "cell_type": "code",
   "execution_count": 34,
   "metadata": {},
   "outputs": [],
   "source": [
    "import pandas as pd\n",
    "import matplotlib.pyplot as plt\n",
    "import seaborn as sns\n",
    "import numpy as np\n",
    "from dateutil.relativedelta import relativedelta\n",
    "import warnings\n",
    "warnings.filterwarnings('ignore')\n",
    "%matplotlib inline\n",
    "pd.set_option('display.max_columns', None)\n",
    "\n",
    "from sklearn.model_selection import train_test_split, GridSearchCV, cross_validate\n",
    "from sklearn.metrics import mean_squared_error\n",
    "from sklearn.ensemble import RandomForestRegressor\n",
    "from sklearn.linear_model import Lasso, LassoCV\n",
    "rcParams.update({'figure.autolayout': True})"
   ]
  },
  {
   "cell_type": "markdown",
   "metadata": {},
   "source": [
    "# 1. Figure out your question"
   ]
  },
  {
   "cell_type": "markdown",
   "metadata": {},
   "source": [
    "Our questions was given to us by our sponsor company Neighbor. They asked us to figure out how long a reservation would last on their website. See <a>https://www.neighbor.com/</a> for more background information on the company."
   ]
  },
  {
   "cell_type": "markdown",
   "metadata": {},
   "source": [
    "# 2. Obtain a Labelled Dataset"
   ]
  },
  {
   "cell_type": "markdown",
   "metadata": {},
   "source": [
    "This dataset is sourced from six different data tables given to us by the company. Most of the code in this section involves combining and cleaning the data to create useable labelled data for our models."
   ]
  },
  {
   "cell_type": "code",
   "execution_count": 35,
   "metadata": {},
   "outputs": [],
   "source": [
    "# Read in Data Tables\n",
    "\n",
    "# listings.csv\n",
    "listings = pd.read_csv('C:\\\\Users\\\\ben1c\\\\Projects\\\\Econ 484\\\\Final Project\\\\listings.csv')\n",
    "# users.csv\n",
    "users = pd.read_csv('C:\\\\Users\\\\ben1c\\\\Projects\\\\Econ 484\\\\Final Project\\\\users.csv')\n",
    "# reservations.csv\n",
    "reservations = pd.read_csv('C:\\\\Users\\\\ben1c\\\\Projects\\\\Econ 484\\\\Final Project\\\\reservations.csv')\n",
    "# risting_metadata.csv\n",
    "listingmeta = pd.read_csv('C:\\\\Users\\\\ben1c\\\\Projects\\\\Econ 484\\\\Final Project\\\\listing_metadata.csv')\n",
    "# photos.csv\n",
    "photos = pd.read_csv('C:\\\\Users\\\\ben1c\\\\Projects\\\\Econ 484\\\\Final Project\\\\photos.csv')\n",
    "# user_metadata.csv\n",
    "usermeta = pd.read_csv('C:\\\\Users\\\\ben1c\\\\Projects\\\\Econ 484\\\\Final Project\\\\user_metadata.csv')"
   ]
  },
  {
   "cell_type": "code",
   "execution_count": 36,
   "metadata": {},
   "outputs": [],
   "source": [
    "# Drop all duplicates, deleted posts or any that aren't published\n",
    "listings.drop_duplicates()\n",
    "listings = listings[listings.status == 'Published']\n",
    "listings = listings[listings['deleted'] != 'True']\n",
    "\n",
    "# Return user data from hosts only\n",
    "users = users[users['is_host']==True]"
   ]
  },
  {
   "cell_type": "code",
   "execution_count": 37,
   "metadata": {},
   "outputs": [],
   "source": [
    "# Creates new column with Description Length Boolean\n",
    "listings['Description Length'] = np.where(listings['summary'].str.len()>=30, '1', '0')\n",
    "\n",
    "# Creates new column with Title Length Boolean\n",
    "listings['Title Length'] = np.where((listings['listing_name'].str.len()>=10), 1, 0)\n",
    "\n",
    "# Create Storage Type Category\n",
    "listings['Storage Type'] = listings['storage_type'].values\n",
    "\n",
    "# Create Accessibility Category\n",
    "listings['Accessibility'] = listings['access'].values\n",
    "\n",
    "# Create Price Per Square Ft\n",
    "listings['Price Per SQFT'] = (listings['monthly_price'].values)/(listings['width'].values * listings['length'].values)\n",
    "\n",
    "# Create Day Posted\n",
    "listings['Day Posted'] = pd.to_datetime(listings['created_at']).dt.dayofweek\n",
    "\n",
    "# Create Month Posted\n",
    "listings['Month Posted'] = pd.to_datetime(listings['created_at']).dt.month"
   ]
  },
  {
   "cell_type": "code",
   "execution_count": 38,
   "metadata": {},
   "outputs": [],
   "source": [
    "#USER METADATA\n",
    "\n",
    "#picking relevant columns\n",
    "dfusermeta = pd.DataFrame(usermeta, columns=['id','user_id','key','value'])\n",
    "df12 = pd.DataFrame(usermeta, columns=['id','user_id','key','value'])\n",
    "\n",
    "#New column with superhost level inputted\n",
    "dfusermeta['Superhost Level'] = dfusermeta[dfusermeta['key']=='superhost_level']['value'].astype(int)\n",
    "df12['Superhost Level'] = np.where(dfusermeta['key']=='superhost_level',dfusermeta['value'],'0')\n",
    "df123 = df12.loc[df12['Superhost Level']!='0']\n",
    "users = pd.merge(users, df123[['user_id', 'Superhost Level']], left_on='id', right_on='user_id', how='left')\n",
    "\n",
    "\n",
    "#Pull in enterprise status\n",
    "dfusermeta['Enterprise'] = dfusermeta[dfusermeta['key']=='enterprise_account']['value']\n",
    "df12['Enterprise'] = np.where(dfusermeta['key']=='enterprise_account', '1', '0')\n",
    "df124 = df12.loc[df12['Enterprise']!='0']\n",
    "users = pd.merge(users, df124[['user_id', 'Enterprise']], left_on='id', right_on='user_id', how='left')"
   ]
  },
  {
   "cell_type": "code",
   "execution_count": 39,
   "metadata": {},
   "outputs": [],
   "source": [
    "#LISTING METADATA\n",
    "df1 = pd.DataFrame(listingmeta, columns= ['id','listing_id','key','value',])\n",
    "df23 = pd.DataFrame(listingmeta, columns= ['id','listing_id','key','value',])"
   ]
  },
  {
   "cell_type": "markdown",
   "metadata": {},
   "source": [
    "Price score ranges from 0 to 1 with .5 being the best score. We manipulated price score such that its range is from -.5 to 0 where a value of 0 represents the best possible score and a value of -.5 means that the assigned price score was .5 away form the ideal price score of .5. Therefore, if you were given a score of .7 (your price is higher than our recommendation) then the value in the column would read in as -.2 because you were .2 away from the ideal price score. We did this to make the coefficient on price score easier to understand."
   ]
  },
  {
   "cell_type": "code",
   "execution_count": 40,
   "metadata": {},
   "outputs": [],
   "source": [
    "#Pull price score data\n",
    "df23['Price Score'] = np.where(df1['key']=='price_score',df1['value'],'0')\n",
    "df234 = df23.loc[df23['Price Score']!='0']\n",
    "df234['Price Score'] = -(abs(df234['Price Score'].astype(float) + -.5))\n",
    "\n",
    "listings = pd.merge(listings, df234[['listing_id', 'Price Score']], left_on='id', right_on='listing_id', how='left')\n",
    "\n",
    "#First Month Discount\n",
    "df23['Discount'] = np.where(df1['key']=='first_month_discount',df1['value'],'0')\n",
    "df234 = df23.loc[df23['Discount']!='0']\n",
    "listings = pd.merge(listings, df234[['listing_id', 'Discount']], left_on='id', right_on='listing_id', how='left')\n",
    "\n",
    "#Pull manual score data\n",
    "df23['Manual Score'] = np.where(df1['key']=='manual_score',df1['value'],'0')\n",
    "df234 = df23.loc[df23['Manual Score']!='0']\n",
    "listings = pd.merge(listings, df234[['listing_id', 'Manual Score']], left_on='id', right_on='listing_id', how='left')"
   ]
  },
  {
   "cell_type": "code",
   "execution_count": 41,
   "metadata": {},
   "outputs": [],
   "source": [
    "#Pull feature data\n",
    "dffeat = pd.DataFrame(listingmeta, columns= ['id','listing_id','key','value'])\n",
    "dffeat = dffeat[dffeat['key']=='features']\n",
    "dffeat.drop('key', axis = 1, inplace=True)\n",
    "\n",
    "dffeat1 = dffeat['value'].str.split(pat=\",\",expand=True)      \n",
    "dffeat1 = pd.get_dummies(dffeat1.apply(pd.Series).stack()).sum(level=0)\n",
    "dffeat1['id'] = dffeat['listing_id']"
   ]
  },
  {
   "cell_type": "markdown",
   "metadata": {},
   "source": [
    "Some of the features are listed twice in the original dataframe so we will replace any values of 2 with a 1"
   ]
  },
  {
   "cell_type": "code",
   "execution_count": 42,
   "metadata": {},
   "outputs": [],
   "source": [
    "dffeat1.replace(2, 1, inplace=True)"
   ]
  },
  {
   "cell_type": "code",
   "execution_count": 43,
   "metadata": {},
   "outputs": [],
   "source": [
    "listings = pd.merge(listings, dffeat1, on='id', how='left')"
   ]
  },
  {
   "cell_type": "code",
   "execution_count": 44,
   "metadata": {},
   "outputs": [],
   "source": [
    "#USERS\n",
    "#picking relevant columns\n",
    "dfusers = pd.DataFrame(users, columns= ['id','bio','is_host','profile_photo_id' , 'lead_source'])\n",
    "\n",
    "#return user data from hosts only\n",
    "dfusers = dfusers[dfusers['is_host']==True]\n",
    "\n",
    "#if they have a bio, counts the number of characters\n",
    "dfusers['bio length'] = np.where(dfusers['bio'].isna(), 0, 1)\n",
    "\n",
    "#Add new column, if they have profile pic then '1' else '0'\n",
    "dfusers['Profile Photo'] = np.where(dfusers['profile_photo_id'].notnull().values,'1','0')"
   ]
  },
  {
   "cell_type": "code",
   "execution_count": 45,
   "metadata": {},
   "outputs": [],
   "source": [
    "#PHOTOS\n",
    "\n",
    "#picking relevant columns\n",
    "dfphoto = pd.DataFrame(photos, columns= ['id','imageable_type','imageable_id','filename', 'deleted'])\n",
    "dfphoto2 = pd.DataFrame(photos, columns= ['id','imageable_type','imageable_id','filename', 'deleted'])\n",
    "\n",
    "#returning only undeleted listing photo data\n",
    "dfphoto = dfphoto[dfphoto['imageable_type']=='Listing']\n",
    "\n",
    "#insert new column for streetview and label with 1 and 0 for rows with streetview\n",
    "dfphoto2['streetview'] = np.where((dfphoto2['filename']=='streetView') |(dfphoto2['filename']=='streetview'),'1','0')\n",
    "\n",
    "\n",
    "dfphoto3 = dfphoto2.loc[dfphoto2['streetview']=='1']\n",
    "dfphoto3 = dfphoto3[dfphoto3['deleted']==False]\n",
    "\n",
    "#Add streetview count on listing df\n",
    "listings = pd.merge(listings, dfphoto3[['imageable_id','streetview']], left_on='id', right_on='imageable_id', how='left')\n",
    "\n",
    "\n",
    "#count number of pictures for a listing\n",
    "dfphoto['Frequency'] = dfphoto.groupby('imageable_id')['imageable_id'].transform('count')\n",
    "\n",
    "#drop duplicate rows for the same listing\n",
    "dfphoto.drop_duplicates('imageable_id', inplace=True)\n",
    "dfphoto = dfphoto[dfphoto['deleted']==False]\n",
    "\n",
    "#Add number of pictures on a listing to listing df\n",
    "listings = pd.merge(listings, dfphoto[['imageable_id','Frequency']], left_on='id', right_on='imageable_id', how='left')"
   ]
  },
  {
   "cell_type": "code",
   "execution_count": 46,
   "metadata": {},
   "outputs": [],
   "source": [
    "# Merge the listing and user data together\n",
    "listings = pd.merge(listings,\n",
    "                    users,\n",
    "                    left_on='user_id',\n",
    "                    right_on='id',\n",
    "                    how='left')"
   ]
  },
  {
   "cell_type": "code",
   "execution_count": 47,
   "metadata": {},
   "outputs": [],
   "source": [
    "# Get Reservation info\n",
    "reservations.drop_duplicates(inplace=True)\n"
   ]
  },
  {
   "cell_type": "code",
   "execution_count": 48,
   "metadata": {},
   "outputs": [],
   "source": [
    "# Create Reservation Length Status\n",
    "listings = pd.merge(listings, reservations[['listing_id', 'Reservation_Length']], left_on='id_x', right_on='listing_id', how='left')"
   ]
  },
  {
   "cell_type": "code",
   "execution_count": 49,
   "metadata": {},
   "outputs": [],
   "source": [
    "finaldf = pd.DataFrame()\n",
    "\n",
    "# Bring in Listing Info\n",
    "finaldf['Listing-ID'] = listings['id_x']\n",
    "finaldf['Accessibility'] = listings['Accessibility']\n",
    "finaldf['Storage Type'] = listings['Storage Type']\n",
    "finaldf['Title Length'] = listings['Title Length']\n",
    "finaldf['Description Length'] = listings['Description Length']\n",
    "finaldf['Indoor'] = listings['indoor']\n",
    "finaldf['Day Posted'] = listings['Day Posted']\n",
    "finaldf['Month Posted'] = listings['Month Posted']\n",
    "finaldf['Photos of the Space'] = listings['Frequency']\n",
    "finaldf['Streetview'] = listings['streetview']\n",
    "finaldf['Discount'] = listings['Discount']\n",
    "finaldf['Price Per SQFT'] = listings['Price Per SQFT']\n",
    "\n",
    "# Bring in Host Info\n",
    "finaldf['Bio Included'] = dfusers['bio length']\n",
    "finaldf['Profile Photo'] = dfusers['Profile Photo']\n",
    "finaldf['Phone Verified'] = listings['phone_verified']\n",
    "finaldf['Photo ID Verified'] = listings['photo_id_verified']\n",
    "finaldf['Superhost Level'] = listings['Superhost Level']\n",
    "finaldf['Camera'] = listings['camera']\n",
    "finaldf['Climate Controlled'] = listings['climate_controlled']\n",
    "finaldf['Lockable'] = listings['is_lockable']\n",
    "finaldf['No Pets'] = listings['no_pets']\n",
    "finaldf['No Stairs'] = listings['no_stairs']\n",
    "finaldf['Private Entrance'] = listings['private_entrance']\n",
    "finaldf['Smoke Detectors'] = listings['smoke_detectors']\n",
    "finaldf['Smoke Free'] = listings['smoke_free']\n",
    "finaldf['Enterprise'] = listings['Enterprise']\n",
    "\n",
    "# Bring in Review info\n",
    "finaldf['Manual Score'] = listings['Manual Score']\n",
    "finaldf['Price Score'] = listings['Price Score']\n",
    "\n",
    "# Add Reserved Info\n",
    "finaldf['Reservation Length'] = listings['Reservation_Length']\n",
    "finaldf.dropna(subset=['Reservation Length'], inplace=True)"
   ]
  },
  {
   "cell_type": "code",
   "execution_count": 50,
   "metadata": {},
   "outputs": [
    {
     "data": {
      "text/html": [
       "<div>\n",
       "<style scoped>\n",
       "    .dataframe tbody tr th:only-of-type {\n",
       "        vertical-align: middle;\n",
       "    }\n",
       "\n",
       "    .dataframe tbody tr th {\n",
       "        vertical-align: top;\n",
       "    }\n",
       "\n",
       "    .dataframe thead th {\n",
       "        text-align: right;\n",
       "    }\n",
       "</style>\n",
       "<table border=\"1\" class=\"dataframe\">\n",
       "  <thead>\n",
       "    <tr style=\"text-align: right;\">\n",
       "      <th></th>\n",
       "      <th>total</th>\n",
       "      <th>percent</th>\n",
       "    </tr>\n",
       "  </thead>\n",
       "  <tbody>\n",
       "    <tr>\n",
       "      <th>Enterprise</th>\n",
       "      <td>1223</td>\n",
       "      <td>42.172414</td>\n",
       "    </tr>\n",
       "    <tr>\n",
       "      <th>Streetview</th>\n",
       "      <td>1118</td>\n",
       "      <td>38.551724</td>\n",
       "    </tr>\n",
       "    <tr>\n",
       "      <th>Photos of the Space</th>\n",
       "      <td>321</td>\n",
       "      <td>11.068966</td>\n",
       "    </tr>\n",
       "    <tr>\n",
       "      <th>Discount</th>\n",
       "      <td>307</td>\n",
       "      <td>10.586207</td>\n",
       "    </tr>\n",
       "    <tr>\n",
       "      <th>No Pets</th>\n",
       "      <td>104</td>\n",
       "      <td>3.586207</td>\n",
       "    </tr>\n",
       "    <tr>\n",
       "      <th>Climate Controlled</th>\n",
       "      <td>104</td>\n",
       "      <td>3.586207</td>\n",
       "    </tr>\n",
       "    <tr>\n",
       "      <th>Lockable</th>\n",
       "      <td>104</td>\n",
       "      <td>3.586207</td>\n",
       "    </tr>\n",
       "    <tr>\n",
       "      <th>Smoke Free</th>\n",
       "      <td>104</td>\n",
       "      <td>3.586207</td>\n",
       "    </tr>\n",
       "    <tr>\n",
       "      <th>Smoke Detectors</th>\n",
       "      <td>104</td>\n",
       "      <td>3.586207</td>\n",
       "    </tr>\n",
       "    <tr>\n",
       "      <th>Private Entrance</th>\n",
       "      <td>104</td>\n",
       "      <td>3.586207</td>\n",
       "    </tr>\n",
       "  </tbody>\n",
       "</table>\n",
       "</div>"
      ],
      "text/plain": [
       "                     total    percent\n",
       "Enterprise            1223  42.172414\n",
       "Streetview            1118  38.551724\n",
       "Photos of the Space    321  11.068966\n",
       "Discount               307  10.586207\n",
       "No Pets                104   3.586207\n",
       "Climate Controlled     104   3.586207\n",
       "Lockable               104   3.586207\n",
       "Smoke Free             104   3.586207\n",
       "Smoke Detectors        104   3.586207\n",
       "Private Entrance       104   3.586207"
      ]
     },
     "execution_count": 50,
     "metadata": {},
     "output_type": "execute_result"
    }
   ],
   "source": [
    "finaldf.drop_duplicates(inplace=True)\n",
    "missingdata = pd.DataFrame()\n",
    "missingdata['total'] = finaldf.isnull().sum()\n",
    "missingdata['percent'] = missingdata['total'] / len(missingdata)\n",
    "missingdata.sort_values('percent', ascending = False).head(10)"
   ]
  },
  {
   "cell_type": "markdown",
   "metadata": {},
   "source": [
    "# Cleaning missing values\n",
    "#### The following are our reasoning on filling these missing values with zeroes\n",
    "\n",
    "Discount-maybe it didn't exist in the beginning so some of the early ones are are NaN, replace t/f with TRUE/FALSE, then Fill with ZERO  \n",
    "Features - 108 are missing for them all and it appears that they are the same listings, seems like they are outside so it probably means that they just don't have any of those features. FILL WITH ZERO  \n",
    "Price Score- I don't see anything special. DROP ROW  \n",
    "Manual Score- I don't see anything special. DROP ROW  \n",
    "Phone Verified- Fill with zeros  \n",
    "Superhost level - FIll with Zeros  \n",
    "Bio Length- Fill with Zero  \n",
    "Photos of Space- FIll with Zero, because there are no zero values  \n",
    "Streetview- Fill with 0 becuase they don't have it.  "
   ]
  },
  {
   "cell_type": "code",
   "execution_count": 51,
   "metadata": {},
   "outputs": [],
   "source": [
    "finaldf.replace('true', 1, inplace=True)\n",
    "finaldf.replace('false', 0, inplace=True)\n",
    "finaldf.replace('True', 1, inplace=True)\n",
    "finaldf.replace('False', 0, inplace=True)\n",
    "finaldf.replace('TRUE', 1, inplace=True)\n",
    "finaldf.replace('FALSE', 0, inplace=True)\n",
    "finaldf.replace('f', 0, inplace=True)\n",
    "finaldf.replace('t', 1, inplace=True)\n",
    "finaldf.replace(False, 0, inplace=True)\n",
    "finaldf.replace(True, 1, inplace=True)"
   ]
  },
  {
   "cell_type": "code",
   "execution_count": 52,
   "metadata": {},
   "outputs": [],
   "source": [
    "finaldf = finaldf.fillna(0)\n",
    "finaldf = finaldf.dropna()"
   ]
  },
  {
   "cell_type": "code",
   "execution_count": 53,
   "metadata": {},
   "outputs": [
    {
     "data": {
      "text/plain": [
       "<matplotlib.axes._subplots.AxesSubplot at 0x20967517710>"
      ]
     },
     "execution_count": 53,
     "metadata": {},
     "output_type": "execute_result"
    },
    {
     "data": {
      "image/png": "[encoded data removed]",
      "text/plain": [
       "<Figure size 432x432 with 2 Axes>"
      ]
     },
     "metadata": {
      "needs_background": "light"
     },
     "output_type": "display_data"
    }
   ],
   "source": [
    "corrl = pd.DataFrame(finaldf, columns=['Camera', 'Manual Score', 'Enterprise',\n",
    "                                       'Discount', 'Month Posted', 'Superhost Level', 'Price Score'])\n",
    "correlation_map = corrl.corr()\n",
    "# correlation_map\n",
    "plt.figure(figsize=(6,6))\n",
    "sns.heatmap(correlation_map, vmax=.8, square=True, annot=True, linewidth=.5)"
   ]
  },
  {
   "cell_type": "markdown",
   "metadata": {},
   "source": [
    "Take out rows where Reserevation Length = 0"
   ]
  },
  {
   "cell_type": "code",
   "execution_count": 54,
   "metadata": {},
   "outputs": [
    {
     "data": {
      "text/html": [
       "<div>\n",
       "<style scoped>\n",
       "    .dataframe tbody tr th:only-of-type {\n",
       "        vertical-align: middle;\n",
       "    }\n",
       "\n",
       "    .dataframe tbody tr th {\n",
       "        vertical-align: top;\n",
       "    }\n",
       "\n",
       "    .dataframe thead th {\n",
       "        text-align: right;\n",
       "    }\n",
       "</style>\n",
       "<table border=\"1\" class=\"dataframe\">\n",
       "  <thead>\n",
       "    <tr style=\"text-align: right;\">\n",
       "      <th></th>\n",
       "      <th>total</th>\n",
       "      <th>percent</th>\n",
       "    </tr>\n",
       "  </thead>\n",
       "  <tbody>\n",
       "    <tr>\n",
       "      <th>Listing-ID</th>\n",
       "      <td>0</td>\n",
       "      <td>0.0</td>\n",
       "    </tr>\n",
       "    <tr>\n",
       "      <th>Photo ID Verified</th>\n",
       "      <td>0</td>\n",
       "      <td>0.0</td>\n",
       "    </tr>\n",
       "    <tr>\n",
       "      <th>Price Score</th>\n",
       "      <td>0</td>\n",
       "      <td>0.0</td>\n",
       "    </tr>\n",
       "    <tr>\n",
       "      <th>Manual Score</th>\n",
       "      <td>0</td>\n",
       "      <td>0.0</td>\n",
       "    </tr>\n",
       "    <tr>\n",
       "      <th>Enterprise</th>\n",
       "      <td>0</td>\n",
       "      <td>0.0</td>\n",
       "    </tr>\n",
       "  </tbody>\n",
       "</table>\n",
       "</div>"
      ],
      "text/plain": [
       "                   total  percent\n",
       "Listing-ID             0      0.0\n",
       "Photo ID Verified      0      0.0\n",
       "Price Score            0      0.0\n",
       "Manual Score           0      0.0\n",
       "Enterprise             0      0.0"
      ]
     },
     "execution_count": 54,
     "metadata": {},
     "output_type": "execute_result"
    }
   ],
   "source": [
    "finaldf = finaldf.fillna(0)\n",
    "missingdata = pd.DataFrame()\n",
    "missingdata['total'] = finaldf.isnull().sum()\n",
    "missingdata['percent'] = missingdata['total'] / len(missingdata)\n",
    "missingdata.sort_values('percent', ascending = False).head(5)"
   ]
  },
  {
   "cell_type": "code",
   "execution_count": 55,
   "metadata": {},
   "outputs": [],
   "source": [
    "dummies = ['Storage Type', 'Accessibility']\n",
    "finaldf = pd.get_dummies(finaldf, columns=dummies)"
   ]
  },
  {
   "cell_type": "markdown",
   "metadata": {},
   "source": [
    "### Code for creating summary statistics"
   ]
  },
  {
   "cell_type": "code",
   "execution_count": 56,
   "metadata": {},
   "outputs": [],
   "source": [
    "finaldfsumstat = pd.DataFrame(finaldf, columns=['Day Posted', 'Month Posted', 'Photos of the Space',\n",
    "       'Superhost Level', 'Manual Score',\n",
    "       'Price Score', 'Reservation Length'])\n",
    "finaldfsumstat.describe().round(2).to_clipboard(excel=True)"
   ]
  },
  {
   "cell_type": "code",
   "execution_count": 57,
   "metadata": {},
   "outputs": [],
   "source": [
    "finaldfsumstat = pd.DataFrame(finaldf, columns=['Indoor',\n",
    "       'Phone Verified', 'Photo ID Verified', 'Superhost Level', 'Camera',\n",
    "       'Climate Controlled', 'Lockable', 'No Pets', 'No Stairs',\n",
    "       'Private Entrance', 'Smoke Detectors', 'Smoke Free',\n",
    "       'Discount',])\n",
    "finaldfsumstat.describe().round(2).to_clipboard(excel=True)"
   ]
  },
  {
   "cell_type": "code",
   "execution_count": 58,
   "metadata": {},
   "outputs": [],
   "source": [
    "X = pd.DataFrame(finaldf, columns = ['Title Length', 'Description Length', 'Indoor',\n",
    "       'Day Posted', 'Month Posted', 'Photos of the Space', 'Streetview',\n",
    "       'Discount', 'Bio Included', 'Profile Photo', 'Phone Verified',\n",
    "       'Photo ID Verified', 'Superhost Level', 'Camera', 'Climate Controlled',\n",
    "       'Lockable', 'No Pets', 'No Stairs', 'Private Entrance',\n",
    "       'Smoke Detectors', 'Smoke Free', 'Enterprise', 'Manual Score',\n",
    "       'Price Score', 'Storage Type_Basement',\n",
    "       'Storage Type_Bedroom', 'Storage Type_Garage', 'Storage Type_Lot',\n",
    "       'Storage Type_Other', 'Storage Type_RV Pad',\n",
    "       'Storage Type_Storage Facility', 'Storage Type_Warehouse',\n",
    "       'Accessibility_24/7', 'Accessibility_Business Hours',\n",
    "       'Accessibility_By Appointment Only'])\n",
    "\n",
    "y = pd.DataFrame(finaldf, columns = ['Reservation Length'])"
   ]
  },
  {
   "cell_type": "markdown",
   "metadata": {},
   "source": [
    "# 3. Split into Test and Training Set"
   ]
  },
  {
   "cell_type": "code",
   "execution_count": 59,
   "metadata": {},
   "outputs": [],
   "source": [
    "X_train, X_test, y_train, y_test = train_test_split(X, y, random_state=42)"
   ]
  },
  {
   "cell_type": "markdown",
   "metadata": {},
   "source": [
    "# 4. Pick an Model\n",
    "# 5. Use CrossFold Validation to pick parameters\n",
    "# 6. Fit model to training data\n",
    "# 7. Test the model on test data"
   ]
  },
  {
   "cell_type": "code",
   "execution_count": 60,
   "metadata": {},
   "outputs": [
    {
     "name": "stdout",
     "output_type": "stream",
     "text": [
      "Mean MSE: -23631.74890901227\n"
     ]
    }
   ],
   "source": [
    "lasso = Lasso()\n",
    "lasso = lasso.fit(X_train, y_train)\n",
    "cross = cross_validate(lasso, X, y, cv=3, scoring='neg_mean_squared_error', return_estimator=True)\n",
    "\n",
    "print('Mean MSE:', cross['test_score'].mean())"
   ]
  },
  {
   "cell_type": "code",
   "execution_count": 61,
   "metadata": {},
   "outputs": [
    {
     "data": {
      "text/plain": [
       "[('Manual Score', 81.10719162106928),\n",
       " ('Discount', 77.23051718287262),\n",
       " ('No Stairs', 44.42622018318442),\n",
       " ('Enterprise', 36.02695928951823),\n",
       " ('Smoke Free', 24.823243769755997)]"
      ]
     },
     "execution_count": 61,
     "metadata": {},
     "output_type": "execute_result"
    }
   ],
   "source": [
    "feature_imp = sorted(list(zip(X.columns, abs(lasso.coef_))), key=lambda x: x[1], reverse=True)\n",
    "feature_imp[:5]"
   ]
  },
  {
   "cell_type": "markdown",
   "metadata": {},
   "source": [
    "# 8. Do steps 4-7 on another model"
   ]
  },
  {
   "cell_type": "code",
   "execution_count": 62,
   "metadata": {},
   "outputs": [
    {
     "name": "stdout",
     "output_type": "stream",
     "text": [
      "Best Params: {'max_depth': 60, 'n_estimators': 400}\n",
      "GridSearch MSE:\n",
      "Train Accuracy: 5251.133602655502\tTest Accuracy: 20862.185317696458\n"
     ]
    }
   ],
   "source": [
    "rfr = RandomForestRegressor(max_features='sqrt')\n",
    "\n",
    "gridsearch = GridSearchCV(rfr, {'max_depth': [50, 60], 'n_estimators': [300, 350, 400]}, cv=3)\n",
    "\n",
    "gridsearch.fit(X_train, y_train)\n",
    "print(\"Best Params: {}\".format(gridsearch.best_params_))\n",
    "\n",
    "y_pred_train = gridsearch.predict(X_train)\n",
    "y_pred_test = gridsearch.predict(X_test)\n",
    "print(\"GridSearch MSE:\")\n",
    "print(\"Train Accuracy: {}\\tTest Accuracy: {}\".format(mean_squared_error(y_train, y_pred_train),\n",
    "                                           mean_squared_error(y_test, y_pred_test)))"
   ]
  },
  {
   "cell_type": "code",
   "execution_count": 63,
   "metadata": {},
   "outputs": [
    {
     "name": "stdout",
     "output_type": "stream",
     "text": [
      "GridSearch MSE:\n",
      "Train Accuracy: 5251.133602655502\tTest Accuracy: 20862.185317696458\n"
     ]
    },
    {
     "data": {
      "text/plain": [
       "[('Month Posted', 0.1058775889641792),\n",
       " ('Price Score', 0.10511395890558418),\n",
       " ('Photos of the Space', 0.0809044560366193),\n",
       " ('Manual Score', 0.07752572709592136),\n",
       " ('Profile Photo', 0.06913415515639439)]"
      ]
     },
     "execution_count": 63,
     "metadata": {},
     "output_type": "execute_result"
    }
   ],
   "source": [
    "rfr = RandomForestRegressor(max_features='sqrt', max_depth=50, n_estimators=400)\n",
    "rfr.fit(X_train, y_train)\n",
    "y_pred_train = gridsearch.predict(X_train)\n",
    "y_pred_test = gridsearch.predict(X_test)\n",
    "print(\"GridSearch MSE:\")\n",
    "print(\"Train Accuracy: {}\\tTest Accuracy: {}\".format(mean_squared_error(y_train, y_pred_train),\n",
    "                                           mean_squared_error(y_test, y_pred_test)))\n",
    "feature_imp = sorted(list(zip(X.columns, rfr.feature_importances_)), key=lambda x: x[1], reverse=True)\n",
    "# pd.Series([x[1] for x in feature_imp[:]], index=[x[0] for x in feature_imp[:]]).plot(kind='bar', figsize=(14, 4))\n",
    "feature_imp[:5]"
   ]
  },
  {
   "cell_type": "markdown",
   "metadata": {},
   "source": [
    "# Data Visualization for Paper"
   ]
  },
  {
   "cell_type": "markdown",
   "metadata": {},
   "source": [
    "Max depth chart with random forest max depth on x Axis and MSE on y\n",
    "with MSE for training and test set"
   ]
  },
  {
   "cell_type": "code",
   "execution_count": 64,
   "metadata": {},
   "outputs": [
    {
     "data": {
      "text/plain": [
       "<matplotlib.legend.Legend at 0x209674de128>"
      ]
     },
     "execution_count": 64,
     "metadata": {},
     "output_type": "execute_result"
    },
    {
     "data": {
      "image/png": "[encoded data removed]",
      "text/plain": [
       "<Figure size 432x288 with 1 Axes>"
      ]
     },
     "metadata": {
      "needs_background": "light"
     },
     "output_type": "display_data"
    }
   ],
   "source": [
    "mse_train = []\n",
    "mse_test = []\n",
    "max_depth = range(1, 101, 5)\n",
    "for i in max_depth:\n",
    "    rfr = RandomForestRegressor(max_features='sqrt', max_depth=i)\n",
    "    rfr.fit(X_train, y_train)\n",
    "    y_pred_train = rfr.predict(X_train)\n",
    "    y_pred_test = rfr.predict(X_test)\n",
    "    mse_train.append(mean_squared_error(y_train, y_pred_train))\n",
    "    mse_test.append(mean_squared_error(y_test, y_pred_test))\n",
    "\n",
    "    \n",
    "    \n",
    "ax = sns.lineplot(max_depth, mse_train)               \n",
    "ax = sns.lineplot(max_depth, mse_test)\n",
    "ax.set(xlabel='Depth of Tree', ylabel='Mean Squared Error')\n",
    "plt.legend(labels=['Train MSE', 'Test MSE'])\n"
   ]
  }
 ],
 "metadata": {
  "kernelspec": {
   "display_name": "Python 3",
   "language": "python",
   "name": "python3"
  },
  "language_info": {
   "codemirror_mode": {
    "name": "ipython",
    "version": 3
   },
   "file_extension": ".py",
   "mimetype": "text/x-python",
   "name": "python",
   "nbconvert_exporter": "python",
   "pygments_lexer": "ipython3",
   "version": "3.7.2"
  }
 },
 "nbformat": 4,
 "nbformat_minor": 2
}
