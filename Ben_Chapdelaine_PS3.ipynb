{
 "cells": [
  {
   "cell_type": "markdown",
   "metadata": {},
   "source": [
    "# Problem Set 3"
   ]
  },
  {
   "cell_type": "code",
   "execution_count": 4,
   "metadata": {},
   "outputs": [],
   "source": [
    "import numpy as np\n",
    "import pandas as pd\n",
    "import seaborn as sns\n",
    "from sklearn.model_selection import train_test_split, GridSearchCV, cross_validate, LeaveOneOut, KFold\n",
    "import matplotlib.pyplot as plt\n",
    "from sklearn.linear_model import LogisticRegression, LinearRegression, Lasso, Ridge, ElasticNet \n",
    "from sklearn.neighbors import KNeighborsClassifier\n",
    "from sklearn.metrics import accuracy_score, mean_squared_error\n",
    "from sklearn.discriminant_analysis import LinearDiscriminantAnalysis, QuadraticDiscriminantAnalysis\n",
    "from sklearn.ensemble import RandomForestRegressor, BaggingRegressor, GradientBoostingRegressor\n",
    "from sklearn.tree import export_graphviz, DecisionTreeRegressor, plot_tree\n",
    "from sklearn.svm import SVC\n",
    "import graphviz"
   ]
  },
  {
   "cell_type": "markdown",
   "metadata": {},
   "source": [
    "For the next problem we will be using the `Carseats` data set that is available on learningsuite. Load the data and convert the text variables into dummies so that we can use them in the data. Pandas has a function called `get_dummies` that you might want to use."
   ]
  },
  {
   "cell_type": "code",
   "execution_count": 5,
   "metadata": {},
   "outputs": [],
   "source": [
    "df = pd.read_csv(r'C:\\Users\\ben1c\\Projects\\Econ 484\\Homework\\Carseats.csv', index_col=0)"
   ]
  },
  {
   "cell_type": "code",
   "execution_count": 6,
   "metadata": {},
   "outputs": [
    {
     "data": {
      "text/html": [
       "<div>\n",
       "<style scoped>\n",
       "    .dataframe tbody tr th:only-of-type {\n",
       "        vertical-align: middle;\n",
       "    }\n",
       "\n",
       "    .dataframe tbody tr th {\n",
       "        vertical-align: top;\n",
       "    }\n",
       "\n",
       "    .dataframe thead th {\n",
       "        text-align: right;\n",
       "    }\n",
       "</style>\n",
       "<table border=\"1\" class=\"dataframe\">\n",
       "  <thead>\n",
       "    <tr style=\"text-align: right;\">\n",
       "      <th></th>\n",
       "      <th>Sales</th>\n",
       "      <th>CompPrice</th>\n",
       "      <th>Income</th>\n",
       "      <th>Advertising</th>\n",
       "      <th>Population</th>\n",
       "      <th>Price</th>\n",
       "      <th>Age</th>\n",
       "      <th>Education</th>\n",
       "      <th>ShelveLoc_Bad</th>\n",
       "      <th>ShelveLoc_Good</th>\n",
       "      <th>ShelveLoc_Medium</th>\n",
       "      <th>Urban_No</th>\n",
       "      <th>Urban_Yes</th>\n",
       "      <th>US_No</th>\n",
       "      <th>US_Yes</th>\n",
       "    </tr>\n",
       "  </thead>\n",
       "  <tbody>\n",
       "    <tr>\n",
       "      <th>1</th>\n",
       "      <td>9.50</td>\n",
       "      <td>138</td>\n",
       "      <td>73</td>\n",
       "      <td>11</td>\n",
       "      <td>276</td>\n",
       "      <td>120</td>\n",
       "      <td>42</td>\n",
       "      <td>17</td>\n",
       "      <td>1</td>\n",
       "      <td>0</td>\n",
       "      <td>0</td>\n",
       "      <td>0</td>\n",
       "      <td>1</td>\n",
       "      <td>0</td>\n",
       "      <td>1</td>\n",
       "    </tr>\n",
       "    <tr>\n",
       "      <th>2</th>\n",
       "      <td>11.22</td>\n",
       "      <td>111</td>\n",
       "      <td>48</td>\n",
       "      <td>16</td>\n",
       "      <td>260</td>\n",
       "      <td>83</td>\n",
       "      <td>65</td>\n",
       "      <td>10</td>\n",
       "      <td>0</td>\n",
       "      <td>1</td>\n",
       "      <td>0</td>\n",
       "      <td>0</td>\n",
       "      <td>1</td>\n",
       "      <td>0</td>\n",
       "      <td>1</td>\n",
       "    </tr>\n",
       "    <tr>\n",
       "      <th>3</th>\n",
       "      <td>10.06</td>\n",
       "      <td>113</td>\n",
       "      <td>35</td>\n",
       "      <td>10</td>\n",
       "      <td>269</td>\n",
       "      <td>80</td>\n",
       "      <td>59</td>\n",
       "      <td>12</td>\n",
       "      <td>0</td>\n",
       "      <td>0</td>\n",
       "      <td>1</td>\n",
       "      <td>0</td>\n",
       "      <td>1</td>\n",
       "      <td>0</td>\n",
       "      <td>1</td>\n",
       "    </tr>\n",
       "    <tr>\n",
       "      <th>4</th>\n",
       "      <td>7.40</td>\n",
       "      <td>117</td>\n",
       "      <td>100</td>\n",
       "      <td>4</td>\n",
       "      <td>466</td>\n",
       "      <td>97</td>\n",
       "      <td>55</td>\n",
       "      <td>14</td>\n",
       "      <td>0</td>\n",
       "      <td>0</td>\n",
       "      <td>1</td>\n",
       "      <td>0</td>\n",
       "      <td>1</td>\n",
       "      <td>0</td>\n",
       "      <td>1</td>\n",
       "    </tr>\n",
       "    <tr>\n",
       "      <th>5</th>\n",
       "      <td>4.15</td>\n",
       "      <td>141</td>\n",
       "      <td>64</td>\n",
       "      <td>3</td>\n",
       "      <td>340</td>\n",
       "      <td>128</td>\n",
       "      <td>38</td>\n",
       "      <td>13</td>\n",
       "      <td>1</td>\n",
       "      <td>0</td>\n",
       "      <td>0</td>\n",
       "      <td>0</td>\n",
       "      <td>1</td>\n",
       "      <td>1</td>\n",
       "      <td>0</td>\n",
       "    </tr>\n",
       "  </tbody>\n",
       "</table>\n",
       "</div>"
      ],
      "text/plain": [
       "   Sales  CompPrice  Income  Advertising  Population  Price  Age  Education  \\\n",
       "1   9.50        138      73           11         276    120   42         17   \n",
       "2  11.22        111      48           16         260     83   65         10   \n",
       "3  10.06        113      35           10         269     80   59         12   \n",
       "4   7.40        117     100            4         466     97   55         14   \n",
       "5   4.15        141      64            3         340    128   38         13   \n",
       "\n",
       "   ShelveLoc_Bad  ShelveLoc_Good  ShelveLoc_Medium  Urban_No  Urban_Yes  \\\n",
       "1              1               0                 0         0          1   \n",
       "2              0               1                 0         0          1   \n",
       "3              0               0                 1         0          1   \n",
       "4              0               0                 1         0          1   \n",
       "5              1               0                 0         0          1   \n",
       "\n",
       "   US_No  US_Yes  \n",
       "1      0       1  \n",
       "2      0       1  \n",
       "3      0       1  \n",
       "4      0       1  \n",
       "5      1       0  "
      ]
     },
     "execution_count": 6,
     "metadata": {},
     "output_type": "execute_result"
    }
   ],
   "source": [
    "df = pd.get_dummies(df)\n",
    "df.head()"
   ]
  },
  {
   "cell_type": "code",
   "execution_count": 7,
   "metadata": {},
   "outputs": [
    {
     "data": {
      "text/plain": [
       "Index(['Sales', 'CompPrice', 'Income', 'Advertising', 'Population', 'Price',\n",
       "       'Age', 'Education', 'ShelveLoc_Bad', 'ShelveLoc_Good',\n",
       "       'ShelveLoc_Medium', 'Urban_No', 'Urban_Yes', 'US_No', 'US_Yes'],\n",
       "      dtype='object')"
      ]
     },
     "execution_count": 7,
     "metadata": {},
     "output_type": "execute_result"
    }
   ],
   "source": [
    "df.columns"
   ]
  },
  {
   "cell_type": "markdown",
   "metadata": {},
   "source": [
    "Now that the data has only numeric columns, we can proceed to the analysis.  \n",
    "Use `Sales` as the outcome variable  \n",
    "(a) Split the data set into a training set and a test set.  \n",
    "(b) Fit a regression tree to the training set.  What test MSE do you obtain?  \n",
    "\n",
    "    -The test MSE on the basic tree is 3.8\n",
    "\n",
    "(c) Use cross-validation in order to determine the optimal level of tree complexity. Does pruning the tree improve the test MSE? Plot a tree with a depth of 3, and interpret the results.\n",
    "\n",
    "    -Pruning the tree did not help the training or test MSE so it probably is too low of a depth that I tried.\n",
    "    -The tree diagram shows where the model has learned to split the data to separate it into the different outcomes that it has learned.\n",
    "   \n",
    "(d) Use the bagging approach in order to analyze this data. What test MSE do you obtain? Look at the feature importances attribute of your model object to determine which variables are most important.\n",
    "\n",
    "    -Bagging produced a training MSE of 2.8\n",
    "    -It looks like Price, Shelve_Good, Age and Shelve_Bad are most important\n",
    "    \n",
    "(e) Use random forests to analyze this data. What test MSE do you obtain? Look at the feature importances attribute of your model objec function to determine which variables are most important. Describe the effect of m, the number of variables considered at each split, on the error rate obtained.\n",
    "\n",
    "    -After running it with max_features equally auto, log2, sqrt, and 1 the best test MSE was obtained with the auto or looking at n features"
   ]
  },
  {
   "cell_type": "code",
   "execution_count": 8,
   "metadata": {},
   "outputs": [
    {
     "name": "stdout",
     "output_type": "stream",
     "text": [
      "Basic Tree MSE:\n",
      "Train Accuracy: 0.0\tTest Accuracy: 3.8422272727272735\n"
     ]
    }
   ],
   "source": [
    "# A\n",
    "features = ['CompPrice', 'Income', 'Advertising', 'Population', 'Price',\n",
    "       'Age', 'Education', 'ShelveLoc_Bad', 'ShelveLoc_Good',\n",
    "       'ShelveLoc_Medium', 'Urban_No', 'Urban_Yes', 'US_No', 'US_Yes']\n",
    "\n",
    "X = pd.DataFrame(df, columns=features)\n",
    "y = pd.Series(df['Sales'])\n",
    "X_train, X_test, y_train, y_test = train_test_split(X, y, test_size=.33, random_state=42)\n",
    "\n",
    "# B\n",
    "dtr = DecisionTreeRegressor()\n",
    "\n",
    "dtr.fit(X_train, y_train)\n",
    "y_pred_train = dtr.predict(X_train)\n",
    "y_pred_test = dtr.predict(X_test)\n",
    "print(\"Basic Tree MSE:\")\n",
    "print(\"Train Accuracy: {}\\tTest Accuracy: {}\".format(mean_squared_error(y_train, y_pred_train),\n",
    "                                           mean_squared_error(y_test, y_pred_test)))"
   ]
  },
  {
   "cell_type": "code",
   "execution_count": 9,
   "metadata": {},
   "outputs": [
    {
     "data": {
      "image/png": "[encoded data removed]",
      "text/plain": [
       "<Figure size 1296x576 with 1 Axes>"
      ]
     },
     "metadata": {
      "needs_background": "light"
     },
     "output_type": "display_data"
    }
   ],
   "source": [
    "# C\n",
    "dtr = DecisionTreeRegressor(max_depth=3)\n",
    "dtr.fit(X_train, y_train)\n",
    "\n",
    "# plot the graph!\n",
    "plt.figure(figsize=(18, 8))\n",
    "plot = plot_tree(dtr,\n",
    "          feature_names = X_test.columns,\n",
    "          max_depth = 3)     "
   ]
  },
  {
   "cell_type": "code",
   "execution_count": 10,
   "metadata": {},
   "outputs": [
    {
     "name": "stdout",
     "output_type": "stream",
     "text": [
      "Best Params: {'max_depth': 5}\n",
      "GridSearch MSE:\n",
      "Train Accuracy: 1.9915580288317976\tTest Accuracy: 4.802839321569946\n"
     ]
    },
    {
     "name": "stderr",
     "output_type": "stream",
     "text": [
      "c:\\users\\ben1c\\appdata\\local\\programs\\python\\python37\\lib\\site-packages\\sklearn\\model_selection\\_search.py:814: DeprecationWarning: The default of the `iid` parameter will change from True to False in version 0.22 and will be removed in 0.24. This will change numeric results when test-set sizes are unequal.\n",
      "  DeprecationWarning)\n"
     ]
    }
   ],
   "source": [
    "gridsearch = GridSearchCV(dtr, {'max_depth': [1, 3, 5, 7, 9]}, cv=3)\n",
    "\n",
    "gridsearch.fit(X_train, y_train)\n",
    "print(\"Best Params: {}\".format(gridsearch.best_params_))\n",
    "\n",
    "\n",
    "y_pred_train = gridsearch.predict(X_train)\n",
    "y_pred_test = gridsearch.predict(X_test)\n",
    "print(\"GridSearch MSE:\")\n",
    "print(\"Train Accuracy: {}\\tTest Accuracy: {}\".format(mean_squared_error(y_train, y_pred_train),\n",
    "                                           mean_squared_error(y_test, y_pred_test)))"
   ]
  },
  {
   "cell_type": "code",
   "execution_count": 11,
   "metadata": {},
   "outputs": [
    {
     "name": "stdout",
     "output_type": "stream",
     "text": [
      "Bagging Regressor MSE:\n",
      "Train Accuracy: 0.5110320858208957\tTest Accuracy: 2.657114159090909\n"
     ]
    },
    {
     "data": {
      "text/plain": [
       "<matplotlib.axes._subplots.AxesSubplot at 0x13f0f5e8f98>"
      ]
     },
     "execution_count": 11,
     "metadata": {},
     "output_type": "execute_result"
    },
    {
     "data": {
      "image/png": "[encoded data removed]",
      "text/plain": [
       "<Figure size 1008x288 with 1 Axes>"
      ]
     },
     "metadata": {
      "needs_background": "light"
     },
     "output_type": "display_data"
    }
   ],
   "source": [
    "br = BaggingRegressor()\n",
    "br.fit(X_train, y_train)\n",
    "y_pred_train = br.predict(X_train)\n",
    "y_pred_test = br.predict(X_test)\n",
    "print(\"Bagging Regressor MSE:\")\n",
    "print(\"Train Accuracy: {}\\tTest Accuracy: {}\".format(mean_squared_error(y_train, y_pred_train),\n",
    "                                           mean_squared_error(y_test, y_pred_test)))\n",
    "\n",
    "feature_imp = sorted(list(zip(X.columns, dtr.feature_importances_)), key=lambda x: x[1], reverse=True)\n",
    "pd.Series([x[1] for x in feature_imp[:]], index=[x[0] for x in feature_imp[:]]).plot(kind='bar', figsize=(14, 4))\n",
    "\n"
   ]
  },
  {
   "cell_type": "code",
   "execution_count": 12,
   "metadata": {},
   "outputs": [
    {
     "name": "stdout",
     "output_type": "stream",
     "text": [
      "Random Forest MSE:\n",
      "Train Accuracy: 0.5888218992537315\tTest Accuracy: 2.889510371212122\n"
     ]
    },
    {
     "name": "stderr",
     "output_type": "stream",
     "text": [
      "c:\\users\\ben1c\\appdata\\local\\programs\\python\\python37\\lib\\site-packages\\sklearn\\ensemble\\forest.py:245: FutureWarning: The default value of n_estimators will change from 10 in version 0.20 to 100 in 0.22.\n",
      "  \"10 in version 0.20 to 100 in 0.22.\", FutureWarning)\n"
     ]
    },
    {
     "data": {
      "text/plain": [
       "<matplotlib.axes._subplots.AxesSubplot at 0x13f0f6be160>"
      ]
     },
     "execution_count": 12,
     "metadata": {},
     "output_type": "execute_result"
    },
    {
     "data": {
      "image/png": "[encoded data removed]",
      "text/plain": [
       "<Figure size 1008x288 with 1 Axes>"
      ]
     },
     "metadata": {
      "needs_background": "light"
     },
     "output_type": "display_data"
    }
   ],
   "source": [
    "rfr = RandomForestRegressor(max_features='auto')\n",
    "rfr.fit(X_train, y_train)\n",
    "y_pred_train = rfr.predict(X_train)\n",
    "y_pred_test = rfr.predict(X_test)\n",
    "print(\"Random Forest MSE:\")\n",
    "print(\"Train Accuracy: {}\\tTest Accuracy: {}\".format(mean_squared_error(y_train, y_pred_train),\n",
    "                                           mean_squared_error(y_test, y_pred_test)))\n",
    "\n",
    "feature_imp = sorted(list(zip(X.columns, dtr.feature_importances_)), key=lambda x: x[1], reverse=True)\n",
    "pd.Series([x[1] for x in feature_imp[:]], index=[x[0] for x in feature_imp[:]]).plot(kind='bar', figsize=(14, 4))\n",
    "\n"
   ]
  },
  {
   "cell_type": "markdown",
   "metadata": {},
   "source": [
    "We now use boosting to predict Log Salary in the `Hitters` data set.  \n",
    "(a) Remove the observations for whom the salary information is unknown, and then log-transform the salaries and use that as the outcome variable. Be sure to not incluide the old salary variable as a predictor  \n",
    "(b) Create a training set consisting of 200 observations, and a test set consisting of the remaining observations.  \n",
    "(c) Perform boosting on the training set with 1,000 trees for a range of values of the shrinkage parameter λ. Produce a plot with different shrinkage values on the x-axis and the corresponding training set MSE on the y-axis. Add a curve with different shrinkage values on the x-axis and the corresponding test set MSE on the y-axis. The shrinkage parameter is often referred to as the learning rate   \n",
    "(d) Compare the test MSE of boosting to the test MSE that results from applying two of the regression approaches seen in Chapters 3 and 6. Those are the chapters on OLS and penalized regression.  \n",
    "\n",
    "    -The Test MSE is better for boosting depending on what learning rate you use. If you choose the best learning rate roughly .05 then Boosting will better otherwise the Linear Models perform better\n",
    "    \n",
    "(e) Which variables appear to be the most important predictors in the boosted model?  \n",
    "(f) The default for base estimator is a Decision Tree with a maximum depth of 3. Is that the optimal depth? Justify your response.\n",
    "\n",
    "    -GridsearchCV said that max_depth=3 was the best parameters for obtaining the lowest Test MSE\n",
    "    \n",
    "(g) Now apply bagging to the training set. What is the test set MSE for this approach?  \n",
    "    - The MSE for bagging is roughly .28"
   ]
  },
  {
   "cell_type": "code",
   "execution_count": 13,
   "metadata": {},
   "outputs": [
    {
     "data": {
      "text/plain": [
       "Index(['AtBat', 'Hits', 'HmRun', 'Runs', 'RBI', 'Walks', 'Years', 'CAtBat',\n",
       "       'CHits', 'CHmRun', 'CRuns', 'CRBI', 'CWalks', 'PutOuts', 'Assists',\n",
       "       'Errors', 'Salary', 'League_A', 'League_N', 'Division_E', 'Division_W',\n",
       "       'NewLeague_A', 'NewLeague_N'],\n",
       "      dtype='object')"
      ]
     },
     "execution_count": 13,
     "metadata": {},
     "output_type": "execute_result"
    }
   ],
   "source": [
    "df1 = pd.read_csv(r'C:\\Users\\ben1c\\Projects\\Econ 484\\Homework\\Hitters.csv')\n",
    "\n",
    "df1.dropna(subset=['Salary'], inplace=True)\n",
    "df1['Salary'] = np.log(df1['Salary'])\n",
    "\n",
    "df1 = pd.get_dummies(df1)\n",
    "df1.head()\n",
    "df1.columns"
   ]
  },
  {
   "cell_type": "code",
   "execution_count": 14,
   "metadata": {},
   "outputs": [],
   "source": [
    "X = pd.DataFrame(df1, columns=['AtBat', 'Hits', 'HmRun', 'Runs', 'RBI', 'Walks', 'Years', 'CAtBat',\n",
    "       'CHits', 'CHmRun', 'CRuns', 'CRBI', 'CWalks', 'PutOuts', 'Assists',\n",
    "       'Errors', 'League_A', 'League_N', 'Division_E', 'Division_W',\n",
    "       'NewLeague_A', 'NewLeague_N'])\n",
    "\n",
    "y = df1['Salary']\n",
    "\n",
    "X_train, X_test, y_train, y_test = train_test_split(X, y, train_size=200, random_state=42)"
   ]
  },
  {
   "cell_type": "code",
   "execution_count": 15,
   "metadata": {},
   "outputs": [],
   "source": [
    "boost = GradientBoostingRegressor(n_estimators=1000)\n",
    "r = range(10)\n",
    "lr = [10**(-(r[i])) for i in r]\n",
    "msetrain = []\n",
    "msetest = []"
   ]
  },
  {
   "cell_type": "code",
   "execution_count": 16,
   "metadata": {},
   "outputs": [
    {
     "data": {
      "text/plain": [
       "<matplotlib.axes._subplots.AxesSubplot at 0x13f0f798710>"
      ]
     },
     "execution_count": 16,
     "metadata": {},
     "output_type": "execute_result"
    },
    {
     "data": {
      "image/png": "[encoded data removed]",
      "text/plain": [
       "<Figure size 432x288 with 1 Axes>"
      ]
     },
     "metadata": {
      "needs_background": "light"
     },
     "output_type": "display_data"
    }
   ],
   "source": [
    "for i in lr:\n",
    "    boost = GradientBoostingRegressor(n_estimators=1000, learning_rate=i)\n",
    "    boost.fit(X_train, y_train)\n",
    "    y_pred_train = boost.predict(X_train)\n",
    "    y_pred_test = boost.predict(X_test)\n",
    "    msetrain.append(mean_squared_error(y_train, y_pred_train))\n",
    "    msetest.append(mean_squared_error(y_test, y_pred_test))\n",
    "    \n",
    "               \n",
    "sns.lineplot(lr, msetrain)               \n",
    "sns.lineplot(lr, msetest)               "
   ]
  },
  {
   "cell_type": "code",
   "execution_count": 17,
   "metadata": {},
   "outputs": [
    {
     "name": "stdout",
     "output_type": "stream",
     "text": [
      "Linear MSE: 0.43074331126029675\n",
      "Lasso MSE: 0.42258729353069563\n"
     ]
    }
   ],
   "source": [
    "linearmodel = LinearRegression()\n",
    "linearmodel = linearmodel.fit(X_train, y_train)\n",
    "cross = cross_validate(linearmodel, X, y, cv=3, scoring='neg_mean_squared_error', return_estimator=True)\n",
    "\n",
    "print('Linear MSE:', -cross['test_score'].mean())\n",
    "\n",
    "lasso = Lasso()\n",
    "lasso = lasso.fit(X_train, y_train)\n",
    "cross = cross_validate(lasso, X, y, cv=3, scoring='neg_mean_squared_error', return_estimator=True)\n",
    "\n",
    "print('Lasso MSE:', -cross['test_score'].mean())"
   ]
  },
  {
   "cell_type": "code",
   "execution_count": 18,
   "metadata": {},
   "outputs": [
    {
     "data": {
      "text/plain": [
       "<matplotlib.axes._subplots.AxesSubplot at 0x13f0f98a0b8>"
      ]
     },
     "execution_count": 18,
     "metadata": {},
     "output_type": "execute_result"
    },
    {
     "data": {
      "image/png": "[encoded data removed]",
      "text/plain": [
       "<Figure size 1008x288 with 1 Axes>"
      ]
     },
     "metadata": {
      "needs_background": "light"
     },
     "output_type": "display_data"
    }
   ],
   "source": [
    "feature_imp = sorted(list(zip(X.columns, boost.feature_importances_)), key=lambda x: x[1], reverse=True)\n",
    "pd.Series([x[1] for x in feature_imp[:]], index=[x[0] for x in feature_imp[:]]).plot(kind='bar', figsize=(14, 4))"
   ]
  },
  {
   "cell_type": "code",
   "execution_count": 19,
   "metadata": {},
   "outputs": [
    {
     "name": "stdout",
     "output_type": "stream",
     "text": [
      "Best Params: {'max_depth': 5}\n",
      "GridSearch MSE:\n",
      "Train Accuracy: 0.05267975001736455\tTest Accuracy: 0.35487579874354347\n"
     ]
    },
    {
     "name": "stderr",
     "output_type": "stream",
     "text": [
      "c:\\users\\ben1c\\appdata\\local\\programs\\python\\python37\\lib\\site-packages\\sklearn\\model_selection\\_search.py:814: DeprecationWarning: The default of the `iid` parameter will change from True to False in version 0.22 and will be removed in 0.24. This will change numeric results when test-set sizes are unequal.\n",
      "  DeprecationWarning)\n"
     ]
    }
   ],
   "source": [
    "gridsearch = GridSearchCV(dtr, {'max_depth': [1, 3, 5, 7, 9]}, cv=3)\n",
    "gridsearch.fit(X_train, y_train)\n",
    "print(\"Best Params: {}\".format(gridsearch.best_params_))\n",
    "\n",
    "\n",
    "y_pred_train = gridsearch.predict(X_train)\n",
    "y_pred_test = gridsearch.predict(X_test)\n",
    "print(\"GridSearch MSE:\")\n",
    "print(\"Train Accuracy: {}\\tTest Accuracy: {}\".format(mean_squared_error(y_train, y_pred_train),\n",
    "                                           mean_squared_error(y_test, y_pred_test)))"
   ]
  },
  {
   "cell_type": "code",
   "execution_count": 20,
   "metadata": {},
   "outputs": [
    {
     "name": "stdout",
     "output_type": "stream",
     "text": [
      "Bagging Regressor MSE:\n",
      "Train Accuracy: 0.035325277495062306\tTest Accuracy: 0.2895426996138626\n"
     ]
    }
   ],
   "source": [
    "br = BaggingRegressor()\n",
    "br.fit(X_train, y_train)\n",
    "y_pred_train = br.predict(X_train)\n",
    "y_pred_test = br.predict(X_test)\n",
    "print(\"Bagging Regressor MSE:\")\n",
    "print(\"Train Accuracy: {}\\tTest Accuracy: {}\".format(mean_squared_error(y_train, y_pred_train),\n",
    "                                           mean_squared_error(y_test, y_pred_test)))"
   ]
  },
  {
   "cell_type": "markdown",
   "metadata": {},
   "source": [
    "In this problem, you will use support vector approaches in order to predict whether a given car gets high or low gas mileage based on the Auto data set.  \n",
    "(a) Create a binary variable that takes on a 1 for cars with gas mileage above the median, and a 0 for cars with gas mileage below the median. Should we continue using gas mileage as a predictor if this is our outcome?  \n",
    "    -Well if we do it will be a perfect predictor of whether it is above median or not, so we probably shouldn't use it\n",
    "    \n",
    "(b) Fit a support vector classifier to the data with various values of cost, in order to predict whether a car gets high or low gas mileage. Report the cross-validation errors associated with different values of this parameter. Comment on your results.  \n",
    "    -It performs really bad when C is less than .1 but once it passes 1 it appears to only have minimal issues\n",
    "    -C (Train Accuracy, Test Accuracy)-> .01 (.54, .49), .1 (.9, .87), 1 (.9, .88), 10 (.91, .88)\n",
    "    \n",
    "(c) Now repeat (b), this time using SVMs with radial and polynomial basis kernels, with different values of gamma and degree and cost. Comment on your results. What parameters yield the best results?\n",
    "    -Gridsearching through these different values helped us get to an  test accuracy score .89 which is slightly better than what we were getting before "
   ]
  },
  {
   "cell_type": "code",
   "execution_count": 21,
   "metadata": {},
   "outputs": [
    {
     "data": {
      "text/plain": [
       "Index(['mpg', 'cylinders', 'displacement', 'horsepower', 'weight',\n",
       "       'acceleration', 'year', 'origin', 'name'],\n",
       "      dtype='object')"
      ]
     },
     "execution_count": 21,
     "metadata": {},
     "output_type": "execute_result"
    }
   ],
   "source": [
    "df = pd.read_csv(r'C:\\Users\\ben1c\\Projects\\Econ 484\\Homework\\Auto-Copy1.csv')\n",
    "df = df.replace({'?': '0'})\n",
    "df['horsepower'] = df['horsepower'].astype(float)\n",
    "mean = df.horsepower.mean()\n",
    "df = df.replace({0.0 : mean})\n",
    "df['mpg'] = np.where(df['mpg'] > df.mpg.median(), 1, 0)\n",
    "df.columns"
   ]
  },
  {
   "cell_type": "code",
   "execution_count": 22,
   "metadata": {},
   "outputs": [],
   "source": [
    "X = pd.DataFrame(df, columns=['cylinders', 'displacement', 'horsepower', 'weight',\n",
    "       'acceleration', 'year', 'origin'])\n",
    "y = df['mpg']\n",
    "\n",
    "X_train, X_test, y_train, y_test = train_test_split(X, y, train_size=200, random_state=42)"
   ]
  },
  {
   "cell_type": "markdown",
   "metadata": {},
   "source": [
    "Scale the Data"
   ]
  },
  {
   "cell_type": "code",
   "execution_count": 23,
   "metadata": {},
   "outputs": [],
   "source": [
    "# Compute the minimum value per feature on the training set\n",
    "min_on_training = X_train.min(axis=0)\n",
    "# Compute the range of each feature (max - min) on the training set\n",
    "range_on_training = (X_train - min_on_training).max(axis=0)\n",
    "\n",
    "# subtract the min, divide by range\n",
    "# afterward, min=0 and max=1 for each feature\n",
    "X_train_scaled = (X_train - min_on_training) / range_on_training\n",
    "X_test_scaled = (X_test - min_on_training) / range_on_training"
   ]
  },
  {
   "cell_type": "code",
   "execution_count": 24,
   "metadata": {},
   "outputs": [
    {
     "name": "stdout",
     "output_type": "stream",
     "text": [
      "Best Params: {'C': 1}\n",
      "Accuracy on training set: 0.905\n",
      "Accuracy on test set: 0.888\n"
     ]
    },
    {
     "name": "stderr",
     "output_type": "stream",
     "text": [
      "c:\\users\\ben1c\\appdata\\local\\programs\\python\\python37\\lib\\site-packages\\sklearn\\svm\\base.py:193: FutureWarning: The default value of gamma will change from 'auto' to 'scale' in version 0.22 to account better for unscaled features. Set gamma explicitly to 'auto' or 'scale' to avoid this warning.\n",
      "  \"avoid this warning.\", FutureWarning)\n",
      "c:\\users\\ben1c\\appdata\\local\\programs\\python\\python37\\lib\\site-packages\\sklearn\\svm\\base.py:193: FutureWarning: The default value of gamma will change from 'auto' to 'scale' in version 0.22 to account better for unscaled features. Set gamma explicitly to 'auto' or 'scale' to avoid this warning.\n",
      "  \"avoid this warning.\", FutureWarning)\n",
      "c:\\users\\ben1c\\appdata\\local\\programs\\python\\python37\\lib\\site-packages\\sklearn\\svm\\base.py:193: FutureWarning: The default value of gamma will change from 'auto' to 'scale' in version 0.22 to account better for unscaled features. Set gamma explicitly to 'auto' or 'scale' to avoid this warning.\n",
      "  \"avoid this warning.\", FutureWarning)\n",
      "c:\\users\\ben1c\\appdata\\local\\programs\\python\\python37\\lib\\site-packages\\sklearn\\svm\\base.py:193: FutureWarning: The default value of gamma will change from 'auto' to 'scale' in version 0.22 to account better for unscaled features. Set gamma explicitly to 'auto' or 'scale' to avoid this warning.\n",
      "  \"avoid this warning.\", FutureWarning)\n"
     ]
    }
   ],
   "source": [
    "svc = SVC()\n",
    "gridsearch = GridSearchCV(svc, {'C': [1]}, cv=3) # .01 (.54, .49), .1 (.9, .87), 1 (.9, .88), 10 (.91, .88)\n",
    "gridsearch.fit(X_train_scaled, y_train)\n",
    "print(\"Best Params: {}\".format(gridsearch.best_params_))\n",
    "\n",
    "print(\"Accuracy on training set: {:.3f}\".format(gridsearch.score(X_train_scaled, y_train)))\n",
    "print(\"Accuracy on test set: {:.3f}\".format(gridsearch.score(X_test_scaled, y_test)))"
   ]
  },
  {
   "cell_type": "code",
   "execution_count": 25,
   "metadata": {},
   "outputs": [
    {
     "name": "stdout",
     "output_type": "stream",
     "text": [
      "Best Params: {'C': 10, 'degree': 1, 'gamma': 'scale', 'kernel': 'rbf'}\n",
      "Accuracy on training set: 0.965\n",
      "Accuracy on test set: 0.898\n"
     ]
    },
    {
     "name": "stderr",
     "output_type": "stream",
     "text": [
      "c:\\users\\ben1c\\appdata\\local\\programs\\python\\python37\\lib\\site-packages\\sklearn\\model_selection\\_search.py:814: DeprecationWarning: The default of the `iid` parameter will change from True to False in version 0.22 and will be removed in 0.24. This will change numeric results when test-set sizes are unequal.\n",
      "  DeprecationWarning)\n"
     ]
    }
   ],
   "source": [
    "svc = SVC()\n",
    "gridsearch = GridSearchCV(svc, {'C': [.01, .1, 1, 10],\n",
    "                               'degree':[1, 2, 5],\n",
    "                               'kernel':['rbf', 'poly'],\n",
    "                               'gamma':['auto', 'scale'],}, cv=3) \n",
    "gridsearch.fit(X_train_scaled, y_train)\n",
    "print(\"Best Params: {}\".format(gridsearch.best_params_))\n",
    "\n",
    "print(\"Accuracy on training set: {:.3f}\".format(gridsearch.score(X_train_scaled, y_train)))\n",
    "print(\"Accuracy on test set: {:.3f}\".format(gridsearch.score(X_test_scaled, y_test)))"
   ]
  },
  {
   "cell_type": "markdown",
   "metadata": {},
   "source": [
    "# Number 3 from the handwritten portion"
   ]
  },
  {
   "cell_type": "markdown",
   "metadata": {},
   "source": [
    "The group includes Tausha Morris, Michael Friedman, Adam Chappell, and Ben Chapdelaine"
   ]
  },
  {
   "cell_type": "markdown",
   "metadata": {},
   "source": [
    "How long will a renter choose to rent out a location on Neighbor.com?"
   ]
  },
  {
   "cell_type": "markdown",
   "metadata": {},
   "source": [
    "Our data comes from Neighbor, the \"AirBnb\" of Storage, which is a local startup for storage spaces on a peer to peer platform. We were given access to the company's databases with predictors including:\n",
    "\n",
    "Storage Type, Storage Price, Demographic Info, Zipcode of Storage, What the person is storing, etc.\n",
    "\n",
    "We intend to predict length of reservation."
   ]
  },
  {
   "cell_type": "code",
   "execution_count": 41,
   "metadata": {},
   "outputs": [],
   "source": [
    "listings = pd.read_csv(r'C:\\Users\\ben1c\\Projects\\Econ 484\\Homework\\listings.csv')"
   ]
  },
  {
   "cell_type": "code",
   "execution_count": 42,
   "metadata": {},
   "outputs": [],
   "source": [
    "# Creates new column with Description Length Boolean\n",
    "listings['Description Length'] = np.where(listings['summary'].str.len()>=30, '1', '0')\n",
    "\n",
    "# Creates new column with Title Length Boolean\n",
    "listings['Title Length'] = np.where((listings['listing_name'].str.len()>=10), 1, 0)\n",
    "\n",
    "# Create Storage Type Category\n",
    "listings['Storage Type'] = listings['storage_type'].values\n",
    "\n",
    "# Create Accessibility Category\n",
    "listings['Accessibility'] = listings['access'].values\n",
    "\n",
    "# Create Price Per Square Ft\n",
    "listings['Price Per SQFT'] = (listings['monthly_price'].values)/(listings['width'].values * listings['length'])\n",
    "\n",
    "# Create Day Posted\n",
    "listings['Day Posted'] = pd.to_datetime(listings['created_at']).dt.dayofweek\n",
    "\n",
    "# Create Month Posted\n",
    "listings['Month Posted'] = pd.to_datetime(listings['created_at']).dt.month\n",
    "\n",
    "# Create Reserved Status\n",
    "# listings = listings.assign(Reserved=listings.id.isin(reservations.listing_id).astype(int))"
   ]
  },
  {
   "cell_type": "code",
   "execution_count": 48,
   "metadata": {},
   "outputs": [],
   "source": [
    "finaldf = pd.DataFrame()\n",
    "# finaldf['Listing-ID'] = listings['id_x']\n",
    "finaldf['Accessibility'] = listings['Accessibility']\n",
    "finaldf['Storage Type'] = listings['Storage Type']\n",
    "finaldf['Title Length'] = listings['Title Length']\n",
    "finaldf['Description Length'] = listings['Description Length']\n",
    "finaldf['Indoor'] = listings['indoor']\n",
    "finaldf['Day Posted'] = listings['Day Posted']\n",
    "finaldf['Month Posted'] = listings['Month Posted']\n",
    "# finaldf['Photos of the Space'] = listings['Frequency']\n",
    "# finaldf['Streetview'] = listings['streetview']\n",
    "# finaldf['Discount'] = listings['Discount']\n",
    "finaldf = pd.get_dummies(finaldf)\n",
    "# finaldf.describe().round(1)"
   ]
  },
  {
   "attachments": {
    "image.png": {
     "image/png": "[encoded data removed]"
    }
   },
   "cell_type": "markdown",
   "metadata": {},
   "source": [
    "![image.png](attachment:image.png)"
   ]
  },
  {
   "cell_type": "markdown",
   "metadata": {},
   "source": [
    "Most of the data is binary so the summary stats aren't super helpful so far."
   ]
  },
  {
   "cell_type": "markdown",
   "metadata": {},
   "source": [
    "We will most likely use Linear Regression, a from of a tree regression, and maybe a neural network."
   ]
  }
 ],
 "metadata": {
  "kernelspec": {
   "display_name": "Python 3",
   "language": "python",
   "name": "python3"
  },
  "language_info": {
   "codemirror_mode": {
    "name": "ipython",
    "version": 3
   },
   "file_extension": ".py",
   "mimetype": "text/x-python",
   "name": "python",
   "nbconvert_exporter": "python",
   "pygments_lexer": "ipython3",
   "version": "3.7.2"
  }
 },
 "nbformat": 4,
 "nbformat_minor": 2
}
